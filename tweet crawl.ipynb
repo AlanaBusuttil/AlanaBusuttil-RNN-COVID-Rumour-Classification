{
 "cells": [
  {
   "cell_type": "code",
   "execution_count": 2,
   "metadata": {},
   "outputs": [
    {
     "name": "stdout",
     "output_type": "stream",
     "text": [
      "Collecting twython\n",
      "  Downloading twython-3.9.1-py3-none-any.whl (33 kB)\n",
      "Requirement already satisfied: requests>=2.1.0 in c:\\users\\alana\\anaconda3\\lib\\site-packages (from twython) (2.27.1)\n",
      "Requirement already satisfied: requests-oauthlib>=0.4.0 in c:\\users\\alana\\anaconda3\\lib\\site-packages (from twython) (1.3.1)\n",
      "Requirement already satisfied: urllib3<1.27,>=1.21.1 in c:\\users\\alana\\anaconda3\\lib\\site-packages (from requests>=2.1.0->twython) (1.25.9)\n",
      "Requirement already satisfied: idna<4,>=2.5 in c:\\users\\alana\\anaconda3\\lib\\site-packages (from requests>=2.1.0->twython) (2.10)\n",
      "Requirement already satisfied: charset-normalizer~=2.0.0 in c:\\users\\alana\\anaconda3\\lib\\site-packages (from requests>=2.1.0->twython) (2.0.12)\n",
      "Requirement already satisfied: certifi>=2017.4.17 in c:\\users\\alana\\anaconda3\\lib\\site-packages (from requests>=2.1.0->twython) (2021.10.8)\n",
      "Requirement already satisfied: oauthlib>=3.0.0 in c:\\users\\alana\\anaconda3\\lib\\site-packages (from requests-oauthlib>=0.4.0->twython) (3.2.0)\n",
      "Installing collected packages: twython\n",
      "Successfully installed twython-3.9.1\n",
      "Note: you may need to restart the kernel to use updated packages.\n"
     ]
    },
    {
     "name": "stderr",
     "output_type": "stream",
     "text": [
      "WARNING: You are using pip version 22.0.3; however, version 22.0.4 is available.\n",
      "You should consider upgrading via the 'C:\\Users\\alana\\anaconda3\\python.exe -m pip install --upgrade pip' command.\n"
     ]
    }
   ],
   "source": [
    "pip install twython"
   ]
  },
  {
   "cell_type": "code",
   "execution_count": 21,
   "metadata": {},
   "outputs": [],
   "source": [
    "import io, json, time, os, logging, argparse, atexit, gzip, sys\n",
    "from tempfile import NamedTemporaryFile\n",
    "from twython import Twython\n",
    "from twython.exceptions import TwythonError, TwythonRateLimitError"
   ]
  },
  {
   "cell_type": "code",
   "execution_count": 22,
   "metadata": {},
   "outputs": [],
   "source": [
    "# Minimal time accepted between two Rate Limit Errors\n",
    "TOO_SOON = 10\n",
    "# Time to wait if we receive a Rate Limit Error too soon after a previous one\n",
    "WAIT_SOME_MORE = 60\n",
    "\n",
    "SLEEP_SECS_DEFAULT = 0\n",
    "REQUEST_LIMIT_DEFAULT = 180\n",
    "BATCH_TIME_DEFAULT = 15 * 60"
   ]
  },
  {
   "cell_type": "code",
   "execution_count": 23,
   "metadata": {},
   "outputs": [],
   "source": [
    "logging.basicConfig(format='%(asctime)s %(message)s', level=logging.INFO)\n",
    "logger = logging.getLogger(__name__)"
   ]
  },
  {
   "cell_type": "code",
   "execution_count": 24,
   "metadata": {},
   "outputs": [],
   "source": [
    "def check_negative(value):\n",
    "    value = int(value)\n",
    "    if value < 0:\n",
    "        raise argparse.ArgumentTypeError('%s is an invalid positive int value' % value)\n",
    "    return value"
   ]
  },
  {
   "cell_type": "code",
   "execution_count": 28,
   "metadata": {},
   "outputs": [
    {
     "name": "stderr",
     "output_type": "stream",
     "text": [
      "usage: ipykernel_launcher.py [-h] [-i INPUT] -o OUTPUT [-r RESPONSES]\n",
      "                             [-s SLEEP] [-l LIMIT] [-t TOTALTIME]\n",
      "                             [-c {bz2,gzip}] [--test]\n",
      "                             hdVjKTuvX2wiv98KgluM8cYFM\n",
      "                             IjNR3hibJyiMiJaxF3Hs2b4qruoiRDoKdRBrjsM3PHoeSDTnkw\n",
      "                             1518754632553558016-KjDUbOADS4a68j24BDcUV5Rp2M0p3K\n",
      "                             ZV4ZcclknUvEguBugn8FNumim0Ed3qyuqxmuFFc7WaaVS\n",
      "ipykernel_launcher.py: error: the following arguments are required: -o/--output, IjNR3hibJyiMiJaxF3Hs2b4qruoiRDoKdRBrjsM3PHoeSDTnkw, 1518754632553558016-KjDUbOADS4a68j24BDcUV5Rp2M0p3K, ZV4ZcclknUvEguBugn8FNumim0Ed3qyuqxmuFFc7WaaVS\n"
     ]
    },
    {
     "ename": "SystemExit",
     "evalue": "2",
     "output_type": "error",
     "traceback": [
      "An exception has occurred, use %tb to see the full traceback.\n",
      "\u001b[1;31mSystemExit\u001b[0m\u001b[1;31m:\u001b[0m 2\n"
     ]
    }
   ],
   "source": [
    "parser = argparse.ArgumentParser(description=__doc__)\n",
    "parser.add_argument('-i', '--input', required=False, help='Tweets IDs file, first element of each line is an ID. '\n",
    "                                                          'If not set, the standard input is read.')\n",
    "parser.add_argument('-o', '--output', required=True,help='Tweets dataset in jsonl: a complete Twython tweet json per line. One can set the same ''output file for several runs of this script: already downloaded tweets '\n",
    "'are not re-processed, new tweets are appended.')\n",
    "parser.add_argument('-r', '--responses', required=False,\n",
    "                    help='If set, it outputs a json map from the http response statuses to the tweet IDs.')\n",
    "parser.add_argument('-s', '--sleep', required=False, default=SLEEP_SECS_DEFAULT, type=check_negative,\n",
    "                    help='Time to wait between each request, in seconds.')\n",
    "parser.add_argument('-l', '--limit', required=False, default=REQUEST_LIMIT_DEFAULT, type=check_negative,\n",
    "                    help='Number of requests before stopping for wating the \"totaltime\" passed since the first request.')\n",
    "parser.add_argument('-t', '--totaltime', required=False, default=BATCH_TIME_DEFAULT, type=check_negative,\n",
    "                    help='Window time necessary for each batch of \"limit\" requests, in seconds.')\n",
    "parser.add_argument('-c', '--compress', required=False, choices=['bz2', 'gzip'],\n",
    "                    help='Chose the compression format for the out files, no extension is appended.')\n",
    "\n",
    "parser.add_argument('--consumerkey', required=True, help='hdVjKTuvX2wiv98KgluM8cYFM')\n",
    "parser.add_argument('--consumersecret', required=True, help='IjNR3hibJyiMiJaxF3Hs2b4qruoiRDoKdRBrjsM3PHoeSDTnkw')\n",
    "parser.add_argument('--accesstoken', required=True, help='1518754632553558016-KjDUbOADS4a68j24BDcUV5Rp2M0p3K')\n",
    "parser.add_argument('--accesssecret', required=True, help='ZV4ZcclknUvEguBugn8FNumim0Ed3qyuqxmuFFc7WaaVS')\n",
    "\n",
    "parser.add_argument('--test', required=False, action='store_true', default=False,\n",
    "                    help='If set, run some tests for this script. All other parameters are ignored, '\n",
    "                         'except for the authentication codes.')\n",
    "args = parser.parse_args()"
   ]
  },
  {
   "cell_type": "code",
   "execution_count": null,
   "metadata": {},
   "outputs": [],
   "source": []
  }
 ],
 "metadata": {
  "kernelspec": {
   "display_name": "Python 3",
   "language": "python",
   "name": "python3"
  },
  "language_info": {
   "codemirror_mode": {
    "name": "ipython",
    "version": 3
   },
   "file_extension": ".py",
   "mimetype": "text/x-python",
   "name": "python",
   "nbconvert_exporter": "python",
   "pygments_lexer": "ipython3",
   "version": "3.8.3"
  }
 },
 "nbformat": 4,
 "nbformat_minor": 4
}
